{
  "nbformat": 4,
  "nbformat_minor": 0,
  "metadata": {
    "colab": {
      "provenance": []
    },
    "kernelspec": {
      "name": "python3",
      "display_name": "Python 3"
    },
    "language_info": {
      "name": "python"
    }
  },
  "cells": [
    {
      "cell_type": "code",
      "execution_count": null,
      "metadata": {
        "id": "KHn2nV-KH_WG"
      },
      "outputs": [],
      "source": [
        "# импорт библиотек\n",
        "\n",
        "# Библиотека работы с массивами\n",
        "import numpy as np \n",
        "\n",
        "# Библиотека для работы с базами\n",
        "import pandas as pd \n",
        "\n",
        "# Импортируем для создания полносвязной сети и модели\n",
        "from tensorflow.keras.models import Sequential, Model \n",
        "\n",
        "# Необходимые слои\n",
        "from tensorflow.keras.layers import concatenate, Input, Dense, Dropout, BatchNormalization, Flatten \n",
        "\n",
        "# Используем для работы с категориальными данными\n",
        "from tensorflow.keras import utils \n",
        "\n",
        "# Импортируем оптимизаторы\n",
        "from tensorflow.keras.optimizers import Adam, Adadelta, Adagrad \n",
        "\n",
        "# Импортируем токенайзер\n",
        "from tensorflow.keras.preprocessing.text import Tokenizer \n",
        "\n",
        "# импортируем коллбэки\n",
        "from keras.callbacks import  ReduceLROnPlateau,  EarlyStopping\n",
        "\n",
        "# Подключаем стандартизатор\n",
        "from sklearn.preprocessing import StandardScaler, MinMaxScaler \n",
        "\n",
        "# Для разбивки на выборки\n",
        "from sklearn.model_selection import train_test_split \n",
        "\n",
        "# Функции для подсчета ошибок\n",
        "from sklearn.metrics import mean_squared_error, mean_absolute_error \n",
        "\n",
        "# Для работы с графиками\n",
        "import matplotlib.pyplot as plt\n",
        "%matplotlib inline"
      ]
    },
    {
      "cell_type": "code",
      "source": [
        "from google.colab import drive\n",
        "drive.mount('/content/drive')"
      ],
      "metadata": {
        "colab": {
          "base_uri": "https://localhost:8080/"
        },
        "id": "toIhOTD_IhVa",
        "outputId": "5eb7a182-280e-40a7-f6b4-ec93b5677d3f"
      },
      "execution_count": null,
      "outputs": [
        {
          "output_type": "stream",
          "name": "stdout",
          "text": [
            "Mounted at /content/drive\n"
          ]
        }
      ]
    },
    {
      "cell_type": "code",
      "source": [
        "df = pd.read_csv('/content/drive/MyDrive/content/t1_20220101_20220726_rg_201589066.csv', header=0, index_col=0)\n",
        "df.head()"
      ],
      "metadata": {
        "colab": {
          "base_uri": "https://localhost:8080/",
          "height": 440
        },
        "id": "xrWGGlz21ELt",
        "outputId": "2204ea94-74e5-4dae-c1df-20c4e380db5b"
      },
      "execution_count": null,
      "outputs": [
        {
          "output_type": "stream",
          "name": "stderr",
          "text": [
            "/usr/local/lib/python3.8/dist-packages/IPython/core/interactiveshell.py:3326: DtypeWarning: Columns (12,39,51,52) have mixed types.Specify dtype option on import or set low_memory=False.\n",
            "  exec(code_obj, self.user_global_ns, self.user_ns)\n"
          ]
        },
        {
          "output_type": "execute_result",
          "data": {
            "text/plain": [
              "   Unnamed: 0.1  ym:s:bounce   ym:s:browser ym:s:browserCountry  \\\n",
              "0             0            1         chrome                  us   \n",
              "1             1            1   yandexsearch                  ru   \n",
              "2             2            1  safari_mobile                 NaN   \n",
              "3             3            0   chromemobile                  ru   \n",
              "4             4            1  safari_mobile                 NaN   \n",
              "\n",
              "  ym:s:browserLanguage        ym:s:clientID  ym:s:cookieEnabled   ym:s:date  \\\n",
              "0                   en  1654489350380812167                   1  2022-06-06   \n",
              "1                   ru  1654774521346384154                   1  2022-06-09   \n",
              "2                   ru  1656147792622821132                   1  2022-06-25   \n",
              "3                   ru   164793238281186116                   1  2022-03-22   \n",
              "4                   ru  1654789614786669323                   1  2022-06-09   \n",
              "\n",
              "   ym:s:deviceCategory ym:s:endURL  ... ym:s:screenWidth ym:s:startURL  \\\n",
              "0                    1    endURL_1  ...             1920    startURL_1   \n",
              "1                    2    endURL_2  ...              360    startURL_2   \n",
              "2                    2    endURL_1  ...              375    startURL_1   \n",
              "3                    2    endURL_3  ...              360    startURL_1   \n",
              "4                    2    endURL_1  ...              390    startURL_1   \n",
              "\n",
              "                 ym:s:UTMCampaign  \\\n",
              "0                             NaN   \n",
              "1                          june22   \n",
              "2                          june22   \n",
              "3  konkurenty-vc_net_mmo|61228084   \n",
              "4   prigranichye_net_mir|74741535   \n",
              "\n",
              "                                     ym:s:UTMContent ym:s:UTMMedium  \\\n",
              "0                                                NaN            NaN   \n",
              "1                                           spec_all         banner   \n",
              "2                                           spec_all         banner   \n",
              "3  id|31333861543_|cid|61228084|gid|4546929028|ai...            cpc   \n",
              "4  id|39038979686_|cid|74741535|gid|4924248374|ai...            cpc   \n",
              "\n",
              "  ym:s:UTMSource  ym:s:UTMTerm ym:s:visitDuration         ym:s:visitID  \\\n",
              "0            NaN           NaN                  0  3107078458710949968   \n",
              "1    novostroy-m           NaN                  0  3181830630067929292   \n",
              "2   pronovostroy           NaN                  0  3541825601891205395   \n",
              "3         yandex  31333861543_                 63  1387990388022968378   \n",
              "4         yandex  39038979686_                  0  3185787202690875607   \n",
              "\n",
              "                                       ym:s:watchIDs  \n",
              "0                              [3107078458710949968]  \n",
              "1                              [3181830630067929292]  \n",
              "2                              [3541825601891205395]  \n",
              "3  [1387990388022968378,1388007054027522266,13879...  \n",
              "4                              [3185787202690875607]  \n",
              "\n",
              "[5 rows x 67 columns]"
            ],
            "text/html": [
              "\n",
              "  <div id=\"df-b9d360bd-c087-4339-bada-371b3ee53071\">\n",
              "    <div class=\"colab-df-container\">\n",
              "      <div>\n",
              "<style scoped>\n",
              "    .dataframe tbody tr th:only-of-type {\n",
              "        vertical-align: middle;\n",
              "    }\n",
              "\n",
              "    .dataframe tbody tr th {\n",
              "        vertical-align: top;\n",
              "    }\n",
              "\n",
              "    .dataframe thead th {\n",
              "        text-align: right;\n",
              "    }\n",
              "</style>\n",
              "<table border=\"1\" class=\"dataframe\">\n",
              "  <thead>\n",
              "    <tr style=\"text-align: right;\">\n",
              "      <th></th>\n",
              "      <th>Unnamed: 0.1</th>\n",
              "      <th>ym:s:bounce</th>\n",
              "      <th>ym:s:browser</th>\n",
              "      <th>ym:s:browserCountry</th>\n",
              "      <th>ym:s:browserLanguage</th>\n",
              "      <th>ym:s:clientID</th>\n",
              "      <th>ym:s:cookieEnabled</th>\n",
              "      <th>ym:s:date</th>\n",
              "      <th>ym:s:deviceCategory</th>\n",
              "      <th>ym:s:endURL</th>\n",
              "      <th>...</th>\n",
              "      <th>ym:s:screenWidth</th>\n",
              "      <th>ym:s:startURL</th>\n",
              "      <th>ym:s:UTMCampaign</th>\n",
              "      <th>ym:s:UTMContent</th>\n",
              "      <th>ym:s:UTMMedium</th>\n",
              "      <th>ym:s:UTMSource</th>\n",
              "      <th>ym:s:UTMTerm</th>\n",
              "      <th>ym:s:visitDuration</th>\n",
              "      <th>ym:s:visitID</th>\n",
              "      <th>ym:s:watchIDs</th>\n",
              "    </tr>\n",
              "  </thead>\n",
              "  <tbody>\n",
              "    <tr>\n",
              "      <th>0</th>\n",
              "      <td>0</td>\n",
              "      <td>1</td>\n",
              "      <td>chrome</td>\n",
              "      <td>us</td>\n",
              "      <td>en</td>\n",
              "      <td>1654489350380812167</td>\n",
              "      <td>1</td>\n",
              "      <td>2022-06-06</td>\n",
              "      <td>1</td>\n",
              "      <td>endURL_1</td>\n",
              "      <td>...</td>\n",
              "      <td>1920</td>\n",
              "      <td>startURL_1</td>\n",
              "      <td>NaN</td>\n",
              "      <td>NaN</td>\n",
              "      <td>NaN</td>\n",
              "      <td>NaN</td>\n",
              "      <td>NaN</td>\n",
              "      <td>0</td>\n",
              "      <td>3107078458710949968</td>\n",
              "      <td>[3107078458710949968]</td>\n",
              "    </tr>\n",
              "    <tr>\n",
              "      <th>1</th>\n",
              "      <td>1</td>\n",
              "      <td>1</td>\n",
              "      <td>yandexsearch</td>\n",
              "      <td>ru</td>\n",
              "      <td>ru</td>\n",
              "      <td>1654774521346384154</td>\n",
              "      <td>1</td>\n",
              "      <td>2022-06-09</td>\n",
              "      <td>2</td>\n",
              "      <td>endURL_2</td>\n",
              "      <td>...</td>\n",
              "      <td>360</td>\n",
              "      <td>startURL_2</td>\n",
              "      <td>june22</td>\n",
              "      <td>spec_all</td>\n",
              "      <td>banner</td>\n",
              "      <td>novostroy-m</td>\n",
              "      <td>NaN</td>\n",
              "      <td>0</td>\n",
              "      <td>3181830630067929292</td>\n",
              "      <td>[3181830630067929292]</td>\n",
              "    </tr>\n",
              "    <tr>\n",
              "      <th>2</th>\n",
              "      <td>2</td>\n",
              "      <td>1</td>\n",
              "      <td>safari_mobile</td>\n",
              "      <td>NaN</td>\n",
              "      <td>ru</td>\n",
              "      <td>1656147792622821132</td>\n",
              "      <td>1</td>\n",
              "      <td>2022-06-25</td>\n",
              "      <td>2</td>\n",
              "      <td>endURL_1</td>\n",
              "      <td>...</td>\n",
              "      <td>375</td>\n",
              "      <td>startURL_1</td>\n",
              "      <td>june22</td>\n",
              "      <td>spec_all</td>\n",
              "      <td>banner</td>\n",
              "      <td>pronovostroy</td>\n",
              "      <td>NaN</td>\n",
              "      <td>0</td>\n",
              "      <td>3541825601891205395</td>\n",
              "      <td>[3541825601891205395]</td>\n",
              "    </tr>\n",
              "    <tr>\n",
              "      <th>3</th>\n",
              "      <td>3</td>\n",
              "      <td>0</td>\n",
              "      <td>chromemobile</td>\n",
              "      <td>ru</td>\n",
              "      <td>ru</td>\n",
              "      <td>164793238281186116</td>\n",
              "      <td>1</td>\n",
              "      <td>2022-03-22</td>\n",
              "      <td>2</td>\n",
              "      <td>endURL_3</td>\n",
              "      <td>...</td>\n",
              "      <td>360</td>\n",
              "      <td>startURL_1</td>\n",
              "      <td>konkurenty-vc_net_mmo|61228084</td>\n",
              "      <td>id|31333861543_|cid|61228084|gid|4546929028|ai...</td>\n",
              "      <td>cpc</td>\n",
              "      <td>yandex</td>\n",
              "      <td>31333861543_</td>\n",
              "      <td>63</td>\n",
              "      <td>1387990388022968378</td>\n",
              "      <td>[1387990388022968378,1388007054027522266,13879...</td>\n",
              "    </tr>\n",
              "    <tr>\n",
              "      <th>4</th>\n",
              "      <td>4</td>\n",
              "      <td>1</td>\n",
              "      <td>safari_mobile</td>\n",
              "      <td>NaN</td>\n",
              "      <td>ru</td>\n",
              "      <td>1654789614786669323</td>\n",
              "      <td>1</td>\n",
              "      <td>2022-06-09</td>\n",
              "      <td>2</td>\n",
              "      <td>endURL_1</td>\n",
              "      <td>...</td>\n",
              "      <td>390</td>\n",
              "      <td>startURL_1</td>\n",
              "      <td>prigranichye_net_mir|74741535</td>\n",
              "      <td>id|39038979686_|cid|74741535|gid|4924248374|ai...</td>\n",
              "      <td>cpc</td>\n",
              "      <td>yandex</td>\n",
              "      <td>39038979686_</td>\n",
              "      <td>0</td>\n",
              "      <td>3185787202690875607</td>\n",
              "      <td>[3185787202690875607]</td>\n",
              "    </tr>\n",
              "  </tbody>\n",
              "</table>\n",
              "<p>5 rows × 67 columns</p>\n",
              "</div>\n",
              "      <button class=\"colab-df-convert\" onclick=\"convertToInteractive('df-b9d360bd-c087-4339-bada-371b3ee53071')\"\n",
              "              title=\"Convert this dataframe to an interactive table.\"\n",
              "              style=\"display:none;\">\n",
              "        \n",
              "  <svg xmlns=\"http://www.w3.org/2000/svg\" height=\"24px\"viewBox=\"0 0 24 24\"\n",
              "       width=\"24px\">\n",
              "    <path d=\"M0 0h24v24H0V0z\" fill=\"none\"/>\n",
              "    <path d=\"M18.56 5.44l.94 2.06.94-2.06 2.06-.94-2.06-.94-.94-2.06-.94 2.06-2.06.94zm-11 1L8.5 8.5l.94-2.06 2.06-.94-2.06-.94L8.5 2.5l-.94 2.06-2.06.94zm10 10l.94 2.06.94-2.06 2.06-.94-2.06-.94-.94-2.06-.94 2.06-2.06.94z\"/><path d=\"M17.41 7.96l-1.37-1.37c-.4-.4-.92-.59-1.43-.59-.52 0-1.04.2-1.43.59L10.3 9.45l-7.72 7.72c-.78.78-.78 2.05 0 2.83L4 21.41c.39.39.9.59 1.41.59.51 0 1.02-.2 1.41-.59l7.78-7.78 2.81-2.81c.8-.78.8-2.07 0-2.86zM5.41 20L4 18.59l7.72-7.72 1.47 1.35L5.41 20z\"/>\n",
              "  </svg>\n",
              "      </button>\n",
              "      \n",
              "  <style>\n",
              "    .colab-df-container {\n",
              "      display:flex;\n",
              "      flex-wrap:wrap;\n",
              "      gap: 12px;\n",
              "    }\n",
              "\n",
              "    .colab-df-convert {\n",
              "      background-color: #E8F0FE;\n",
              "      border: none;\n",
              "      border-radius: 50%;\n",
              "      cursor: pointer;\n",
              "      display: none;\n",
              "      fill: #1967D2;\n",
              "      height: 32px;\n",
              "      padding: 0 0 0 0;\n",
              "      width: 32px;\n",
              "    }\n",
              "\n",
              "    .colab-df-convert:hover {\n",
              "      background-color: #E2EBFA;\n",
              "      box-shadow: 0px 1px 2px rgba(60, 64, 67, 0.3), 0px 1px 3px 1px rgba(60, 64, 67, 0.15);\n",
              "      fill: #174EA6;\n",
              "    }\n",
              "\n",
              "    [theme=dark] .colab-df-convert {\n",
              "      background-color: #3B4455;\n",
              "      fill: #D2E3FC;\n",
              "    }\n",
              "\n",
              "    [theme=dark] .colab-df-convert:hover {\n",
              "      background-color: #434B5C;\n",
              "      box-shadow: 0px 1px 3px 1px rgba(0, 0, 0, 0.15);\n",
              "      filter: drop-shadow(0px 1px 2px rgba(0, 0, 0, 0.3));\n",
              "      fill: #FFFFFF;\n",
              "    }\n",
              "  </style>\n",
              "\n",
              "      <script>\n",
              "        const buttonEl =\n",
              "          document.querySelector('#df-b9d360bd-c087-4339-bada-371b3ee53071 button.colab-df-convert');\n",
              "        buttonEl.style.display =\n",
              "          google.colab.kernel.accessAllowed ? 'block' : 'none';\n",
              "\n",
              "        async function convertToInteractive(key) {\n",
              "          const element = document.querySelector('#df-b9d360bd-c087-4339-bada-371b3ee53071');\n",
              "          const dataTable =\n",
              "            await google.colab.kernel.invokeFunction('convertToInteractive',\n",
              "                                                     [key], {});\n",
              "          if (!dataTable) return;\n",
              "\n",
              "          const docLinkHtml = 'Like what you see? Visit the ' +\n",
              "            '<a target=\"_blank\" href=https://colab.research.google.com/notebooks/data_table.ipynb>data table notebook</a>'\n",
              "            + ' to learn more about interactive tables.';\n",
              "          element.innerHTML = '';\n",
              "          dataTable['output_type'] = 'display_data';\n",
              "          await google.colab.output.renderOutput(dataTable, element);\n",
              "          const docLink = document.createElement('div');\n",
              "          docLink.innerHTML = docLinkHtml;\n",
              "          element.appendChild(docLink);\n",
              "        }\n",
              "      </script>\n",
              "    </div>\n",
              "  </div>\n",
              "  "
            ]
          },
          "metadata": {},
          "execution_count": 3
        }
      ]
    },
    {
      "cell_type": "code",
      "source": [
        "data_text = df['ym:s:goalsID'].values \n",
        "\n",
        "len(data_text)"
      ],
      "metadata": {
        "colab": {
          "base_uri": "https://localhost:8080/"
        },
        "id": "Futu_r7kLBNJ",
        "outputId": "c7df1356-5713-46f0-def2-f887a73d9db3"
      },
      "execution_count": null,
      "outputs": [
        {
          "output_type": "execute_result",
          "data": {
            "text/plain": [
              "361919"
            ]
          },
          "metadata": {},
          "execution_count": 4
        }
      ]
    },
    {
      "cell_type": "code",
      "source": [
        "data_text = df['ym:s:goalsPrice'].values \n",
        "\n",
        "len(data_text)"
      ],
      "metadata": {
        "colab": {
          "base_uri": "https://localhost:8080/"
        },
        "id": "jHvKCUCcLurO",
        "outputId": "a40e54d6-32c4-4d11-a257-ced2baded5dd"
      },
      "execution_count": null,
      "outputs": [
        {
          "output_type": "execute_result",
          "data": {
            "text/plain": [
              "361919"
            ]
          },
          "metadata": {},
          "execution_count": 5
        }
      ]
    },
    {
      "cell_type": "code",
      "source": [
        "maxWordsCount = 5000 \n",
        "\n",
        "sim_for_del='!\"#$%&()*+,-./:;<=>?@[\\\\]^_`{|}~\\t\\n'\n",
        "\n",
        "tokenizer = Tokenizer (num_words=maxWordsCount, \n",
        "                       filters=sim_for_del, \n",
        "                       lower=True, \n",
        "                       split=' ', \n",
        "                       oov_token='unknown', \n",
        "                       char_level=False)\n",
        "\n",
        "tokenizer.fit_on_texts(data_text)"
      ],
      "metadata": {
        "id": "wAeUcoTLMDue"
      },
      "execution_count": null,
      "outputs": []
    },
    {
      "cell_type": "code",
      "source": [
        "# Переводим в Эмбеддинг пространство\n",
        "Sequences = tokenizer.texts_to_sequences(data_text)\n",
        "\n",
        "# Вариант  Bag of Words\n",
        "xBOW_text = tokenizer.sequences_to_matrix(Sequences)"
      ],
      "metadata": {
        "id": "38Cj3Jc6MQoO"
      },
      "execution_count": null,
      "outputs": []
    },
    {
      "cell_type": "code",
      "source": [
        "from numpy.core.multiarray import dtype\n",
        "xTrain = np.array(df[[\"ym:s:bounce\",\t\"ym:s:clientID\",\t\"ym:s:cookieEnabled\",\t\"ym:s:deviceCategory\", \"ym:s:screenWidth\",\t\"ym:s:visitDuration\"]].astype(\"int\"))\n",
        "\n",
        "yTrain = np.array(df['ym:s:goalsPrice']) "
      ],
      "metadata": {
        "id": "gJdS2heOMhhX"
      },
      "execution_count": null,
      "outputs": []
    },
    {
      "cell_type": "code",
      "source": [
        "print(xTrain.shape)\n",
        "print(yTrain.shape)\n",
        "print(xBOW_text.shape)"
      ],
      "metadata": {
        "colab": {
          "base_uri": "https://localhost:8080/"
        },
        "id": "YFzlh9VV65Fp",
        "outputId": "f6713fae-c59f-435d-dc4a-0db610f4fc3f"
      },
      "execution_count": null,
      "outputs": [
        {
          "output_type": "stream",
          "name": "stdout",
          "text": [
            "(361919, 6)\n",
            "(361919,)\n",
            "(361919, 5000)\n"
          ]
        }
      ]
    },
    {
      "cell_type": "code",
      "source": [
        "x_train, x_test, x_train_text, y_train, y_test = train_test_split(xTrain, xBOW_text, yTrain, test_size=0.05, shuffle = False)"
      ],
      "metadata": {
        "id": "QT6Ync107VO3"
      },
      "execution_count": null,
      "outputs": []
    },
    {
      "cell_type": "code",
      "source": [
        "print(x_train.shape)\n",
        "print(x_train_text.shape)\n",
        "print(y_train.shape)\n",
        "print(x_test.shape)\n",
        "print(x_test_text.shape)\n",
        "print(y_test.shape)"
      ],
      "metadata": {
        "id": "cREGpzHNBYnE"
      },
      "execution_count": null,
      "outputs": []
    },
    {
      "cell_type": "code",
      "source": [
        "len(x_train_text[6])"
      ],
      "metadata": {
        "id": "afMnovseBd70",
        "colab": {
          "base_uri": "https://localhost:8080/",
          "height": 171
        },
        "outputId": "68010f31-31f9-4b66-b80c-9a2206bfaa8a"
      },
      "execution_count": null,
      "outputs": [
        {
          "output_type": "error",
          "ename": "NameError",
          "evalue": "ignored",
          "traceback": [
            "\u001b[0;31m---------------------------------------------------------------------------\u001b[0m",
            "\u001b[0;31mNameError\u001b[0m                                 Traceback (most recent call last)",
            "\u001b[0;32m<ipython-input-1-8fa3eab5e2dd>\u001b[0m in \u001b[0;36m<module>\u001b[0;34m\u001b[0m\n\u001b[0;32m----> 1\u001b[0;31m \u001b[0mlen\u001b[0m\u001b[0;34m(\u001b[0m\u001b[0mx_train_text\u001b[0m\u001b[0;34m[\u001b[0m\u001b[0;36m6\u001b[0m\u001b[0;34m]\u001b[0m\u001b[0;34m)\u001b[0m\u001b[0;34m\u001b[0m\u001b[0;34m\u001b[0m\u001b[0m\n\u001b[0m",
            "\u001b[0;31mNameError\u001b[0m: name 'x_train_text' is not defined"
          ]
        }
      ]
    },
    {
      "cell_type": "code",
      "source": [
        "earlystop=EarlyStopping(monitor='val_loss', \n",
        "                        min_delta=0,\n",
        "                        patience=4,\n",
        "                        verbose=1,\n",
        "                        baseline=None,\n",
        "                        restore_best_weights=True)\n",
        "\n",
        "reduceLROnPlateau = ReduceLROnPlateau(monitor='val_loss', \n",
        "                                      factor=0.6, \n",
        "                                      patience=2, \n",
        "                                      verbose=1)"
      ],
      "metadata": {
        "id": "hv2BT5aeBo07"
      },
      "execution_count": null,
      "outputs": []
    },
    {
      "cell_type": "code",
      "source": [
        "input1 = Input((x_train.shape[1],))\n",
        "input2 = Input((x_train_text.shape[1],))\n",
        "\n",
        "x1 = Dense(1024, activation='relu') (input1)\n",
        "x1 = BatchNormalization()(x1)\n",
        "x1 = Dropout(0.3)(x1)\n",
        "x1 = Dense(768, activation='sigmoid')(x1)\n",
        "x1 = BatchNormalization()(x1)\n",
        "x1 = Dropout(0.3)(x1)\n",
        "x1 = Dense(512, activation='sigmoid')(x1)\n",
        "\n",
        "x2 = Dense(400, activation='sigmoid') (input2)\n",
        "x2 = BatchNormalization()(x2)\n",
        "x2 = Dropout(0.3)(x2)\n",
        "x2 = Dense(100, activation='hard_sigmoid') (x2)\n",
        "\n",
        "x = concatenate([x1, x2])\n",
        "\n",
        "x = Dense(100, activation='relu')(x)\n",
        "x = BatchNormalization()(x)\n",
        "x = Dropout(0.3)(x)\n",
        "x = Dense(50, activation='sigmoid')(x)\n",
        "x = Dropout(0.3)(x)\n",
        "x = Dense(1, activation='linear')(x)\n",
        "\n",
        "model = Model((input1, input2), x)\n",
        "model.compile(optimizer=Adam(learning_rate=0.0001), loss='MAE', metrics=['mae'])\n",
        "\n",
        "history = model.fit((x_train, x_train_text), y_train, epochs=100, validation_split=0.1, verbose=1, shuffle=True, callbacks=[earlystop, reduceLROnPlateau])\n",
        "compare_sharp_loss(history,10,4)  "
      ],
      "metadata": {
        "id": "3smBR9svBv-b"
      },
      "execution_count": null,
      "outputs": []
    },
    {
      "cell_type": "code",
      "source": [
        "def check_MAE_predictl_DubbleInput (model_name, \n",
        "                                    x_data,\n",
        "                                    x_data_text,\n",
        "                                    y_data_not_scaled, \n",
        "                                    plot=False):\n",
        "\n",
        "  mae = 0 # Инициализируем начальное значение ошибки\n",
        "  y_pred = (model_name.predict([x_data,x_data_text])).squeeze()\n",
        " \n",
        "  for n in range (0,len(x_data)):\n",
        "    mae += abs(y_data_not_scaled[n] - y_pred[n]) # Увеличиваем значение ошибки для текущего элемента\n",
        "  mae /= len(x_data) # Считаем среднее значение\n",
        "  print('Средняя абсолютная ошибка {:.3f}  это {:.3f}% от общей выборки в {}'.format(mae, (mae/y_data_not_scaled.mean(axis=0))*100,len(x_data_text)))\n",
        "\n",
        "  if plot:\n",
        "     plt.scatter(y_data_not_scaled, y_pred)\n",
        "     plt.xlabel('Правильные значение')\n",
        "     plt.ylabel('Предсказания')\n",
        "     plt.axis('equal')\n",
        "     plt.xlim(plt.xlim())\n",
        "     plt.ylim(plt.ylim())\n",
        "     plt.plot([0, 250], [0, 250])\n",
        "     plt.show()"
      ],
      "metadata": {
        "id": "R53RcTL1B8h7"
      },
      "execution_count": null,
      "outputs": []
    }
  ]
}
